{
 "cells": [
  {
   "cell_type": "markdown",
   "metadata": {},
   "source": [
    "# 3.2 Pseudocode - Homework\n",
    "Rhitt C.\n",
    "\n",
    "The homework task is to write algorithms in both English and Pseudocode to the following problems:"
   ]
  },
  {
   "cell_type": "markdown",
   "metadata": {},
   "source": [
    "## Problem 1 - Arithmetic Sum, $a=1, d=1$\n",
    "__Input:__ $N\\in\\mathbb{N}$\n",
    "\n",
    "__Output:__ ($\\mathbb{N}$) The sum of all integers from $1$ to $N$\n",
    "\n",
    "---\n",
    "\n"
   ]
  },
  {
   "cell_type": "markdown",
   "metadata": {},
   "source": [
    "### Naive $O(n)$ Iterative Solution"
   ]
  },
  {
   "cell_type": "markdown",
   "metadata": {},
   "source": [
    "#### Plain English\n",
    "\n",
    "\\begin{align*}\n",
    "&\\text{Input a natural number } N\\\\\n",
    "&\\text{Define a } count \\text{ integer variable, initialised to } 0\\\\\\\\\n",
    "&\\text{For every natural number from } 1 \\text{ to } N \\text{ inclusive,}\\\\\n",
    "&\\quad\\text{Add the number to the } count\\\\\\\\\n",
    "&\\text{Return the } count\n",
    "\\end{align*}"
   ]
  },
  {
   "cell_type": "markdown",
   "metadata": {},
   "source": [
    "#### Pseudocode\n",
    "\n",
    "\\begin{align*}\n",
    "&\\textbf{Input } N\\in\\mathbb{N}\\\\\n",
    "&count\\leftarrow0, \\text{ where }count\\in\\mathbb{Z}\\\\\\\\\n",
    "&\\textbf{For }\\text{every } num\\in\\mathbb{N}\\textbf{ from }1\\textbf{ to }N \\text{ inclusive }\\textbf{DO}\\\\\n",
    "&|\\quad count\\leftarrow count+num\\\\\n",
    "&\\textbf{End DO}\\\\\\\\\n",
    "&\\textbf{Return }count\n",
    "\\end{align*}\n",
    "\n",
    "---"
   ]
  },
  {
   "cell_type": "markdown",
   "metadata": {},
   "source": [
    "### Faster $O(1)$ Solution using Arithmetic Series"
   ]
  },
  {
   "cell_type": "markdown",
   "metadata": {},
   "source": [
    "#### Pseudocode\n",
    "\n",
    "\\begin{align*}\n",
    "&\\textbf{Input } N\\in\\mathbb{N}\\\\\n",
    "&sum\\leftarrow\\frac{N(N+1)}{2}\\\\\n",
    "&\\textbf{Return }sum\n",
    "\\end{align*}"
   ]
  },
  {
   "cell_type": "markdown",
   "metadata": {},
   "source": [
    "## Problem 2 - Determine if Prime\n",
    "__Input:__ $N\\in\\mathbb{N}$\n",
    "\n",
    "__Output:__ (boolean) whether or not $N$ is a prime number"
   ]
  },
  {
   "cell_type": "markdown",
   "metadata": {},
   "source": [
    "#### Plain English\n",
    "\n",
    "\\begin{align*}\n",
    "&\\text{Input a natural number }N\\\\\\\\\n",
    "&\\text{For every integer from 2 to square root of }N\\text{ inclusive,}\\\\\n",
    "&\\quad\\text{If }N\\text{ is divisible by the integer,}\\\\\n",
    "&\\quad\\quad\\text{Return a value indicating that }N\\text{ is composite (not prime) (ending program)}\\\\\\\\\n",
    "&\\text{If the program is still running,}\\\\\n",
    "&\\text{Return a value indicating that }N\\text{ is prime}\n",
    "\\end{align*}"
   ]
  },
  {
   "cell_type": "markdown",
   "metadata": {},
   "source": [
    "#### Pseudocode\n",
    "\n",
    "\n",
    "\\begin{align*}\n",
    "&\\textbf{Input }N\\in\\mathbb{N}\\\\\\\\\n",
    "&\\textbf{For }\\text{every }num\\in\\mathbb{N}\\textbf{ from }2\\textbf{ to }\\sqrt{N}\\text{ inclusive }\\textbf{DO}\\\\\n",
    "&|\\quad\\textbf{If }N\\text{(mod }num\\text{) is equal to }0\\textbf{ THEN}\\\\\n",
    "&|\\quad|\\quad\\textbf{Return }\\text{TRUE}\\\\\n",
    "&|\\quad\\textbf{End THEN}\\\\\n",
    "&\\textbf{End DO}\\\\\\\\\n",
    "&\\textbf{Return }\\text{FALSE}\n",
    "\\end{align*}\n",
    "\n",
    "Using $\\text{mod}$ as defined in modular arithmetic"
   ]
  },
  {
   "cell_type": "markdown",
   "metadata": {},
   "source": [
    "## Problem 3 - Reverse a String\n",
    "__Input:__ (string) a word, $word$\n",
    "\n",
    "__Output:__ (string) $word$ in reverse order"
   ]
  },
  {
   "cell_type": "markdown",
   "metadata": {},
   "source": [
    "#### Plain English\n",
    "\n",
    "\\begin{align*}\n",
    "&\\text{Input a }word\\\\\n",
    "&\\text{Define a }length\\text{ natural number variable as the length of the }word\\\\\n",
    "&\\text{Define an empty list called }reverse\\\\\\\\\n",
    "&\\text{For every natural number from }length\\text{ to }1\\text{ inclusive in descending order,}\\\\\n",
    "&\\quad\\text{Take the letter at the number's position of the }word\\text{, indexed from 1, and append it to }reverse\\\\\\\\\n",
    "&\\text{Return }reverse\\text{ as a string (letters put together)}\n",
    "\\end{align*}"
   ]
  },
  {
   "cell_type": "markdown",
   "metadata": {},
   "source": [
    "#### Pseudocode\n"
   ]
  },
  {
   "cell_type": "markdown",
   "metadata": {},
   "source": [
    "\\begin{align*}\n",
    "&\\textbf{Input }word\\text{ as a string}\\\\\n",
    "&length\\leftarrow\\text{the number of characters in }word\\text{, excluding the }\\varnothing\\text{ terminator if exists}\\\\\n",
    "&reverse\\leftarrow\\text{empty list}\\\\\\\\\n",
    "\n",
    "&\\textbf{For }\\text{every }n\\in\\mathbb{N}\\textbf{ from }length\\textbf{ to }1\\text{ inclusive in descending order }\\textbf{DO}\\\\\n",
    "&|\\quad\\text{Append }n\\text{th character of }word\\text{ to }reverse\\\\\n",
    "&\\textbf{End DO}\\\\\\\\\n",
    "\n",
    "&\\textbf{Return }reverse\\text{ converted to a string}\n",
    "\\end{align*}"
   ]
  }
 ],
 "metadata": {
  "language_info": {
   "name": "python"
  }
 },
 "nbformat": 4,
 "nbformat_minor": 2
}
