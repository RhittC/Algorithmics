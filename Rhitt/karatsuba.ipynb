{
 "cells": [
  {
   "cell_type": "markdown",
   "metadata": {},
   "source": [
    "# Karatsuba Multiplication Algorithm\n",
    "Rhitt C."
   ]
  },
  {
   "cell_type": "markdown",
   "metadata": {},
   "source": [
    "Consider the problem of multiplying an $n$ digit natural number $x$ with another $y$.\n",
    "\n",
    "For instance, suppose $n=8$, $x=12345678$, $y=87654321$\n",
    "\n",
    "A computer will naively sum $12345678$ with itself $87654321$ times. But this is extremely inefficient.\n",
    "\n",
    "A first step to optimise this is to consider base $10$ \n",
    "\n",
    " $(a+b)(c+d)$, where $a, b, c, d\\in\\mathbb{N}$\n",
    "\n",
    "\n",
    "Brute forcing this by first evaluating  = ac + (bc + bd) + bd$ takes $4$ multiplications. Evaluating the Right Hand Side requires more primitive operations than the naive Left Hand Side. However, the Karatsuba Algorithm for $n$ digit multiplication exploits the fact that $(bc + bd)$ can be expressed in terms of $ac$ and $bd$, reducing the number of difficult multiplications from $4$ to $3$."
   ]
  },
  {
   "cell_type": "markdown",
   "metadata": {},
   "source": [
    "$(a+b)(c+d) = ac + ad + bc + bd\n",
    "4 multiplications ista takes too long\n",
    "\n",
    "can yoube get rid of one? why yes you can\n",
    "\n",
    "ad + bc is what we want to compress into a single multiplication notbut several additions\n",
    "\n",
    "ad+bc = ad+bc\n",
    "ad+bc + ac + adbcd = ad+bc\n",
    "\n",
    "\n",
    "ad+bc = ad+bc + ac+bd -ac-bd\n",
    "= (ad+ac)(bc:+ndbd)-ac-bd\n",
    "= (a+b)(c+d) - ac - bd\n",
    "\n",
    "there we go"
   ]
  },
  {
   "cell_type": "code",
   "execution_count": null,
   "metadata": {},
   "outputs": [],
   "source": []
  },
  {
   "cell_type": "code",
   "execution_count": null,
   "metadata": {},
   "outputs": [],
   "source": []
  }
 ],
 "metadata": {
  "language_info": {
   "name": "python"
  }
 },
 "nbformat": 4,
 "nbformat_minor": 2
}
