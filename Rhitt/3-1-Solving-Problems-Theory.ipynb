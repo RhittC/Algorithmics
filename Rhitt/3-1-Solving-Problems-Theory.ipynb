{
 "cells": [
  {
   "cell_type": "markdown",
   "metadata": {},
   "source": [
    "# 3.1 - Solving Problems Theory\n"
   ]
  },
  {
   "cell_type": "markdown",
   "metadata": {},
   "source": [
    "## 3.1A Completed on Teams"
   ]
  },
  {
   "cell_type": "markdown",
   "metadata": {},
   "source": [
    "## 3.1B - Sequencing Tasks Exercise"
   ]
  },
  {
   "cell_type": "markdown",
   "metadata": {},
   "source": [
    "### Description\n",
    "Sequencing of tasks is a common problem that people encounter in many jobs and situations where a goal needs to\n",
    "be achieved from an initial starting point.\n",
    "\n",
    "For example when you cook dinner a number of different tasks need to be done. These tasks must be done in a\n",
    "particular order for a successful outcome.\n",
    "\n",
    "Here are the list of tasks that need to be done in no particular order for preparing a dinner:\n",
    "- Set table\n",
    "- Pour tea\n",
    "- Boil water\n",
    "- Serve pasta\n",
    "- Eat\n",
    "- Preheat oven\n",
    "- Add pasta to water\n",
    "- Heat Sauce\n",
    "- Bake bread\n",
    "- Pour sauce over pasta\n",
    "- Serve bread\n",
    "\n"
   ]
  },
  {
   "cell_type": "markdown",
   "metadata": {},
   "source": [
    "### EXERCISES"
   ]
  },
  {
   "cell_type": "markdown",
   "metadata": {},
   "source": [
    "\n",
    "#### Ex1 \n",
    "Create a real world model or representation so that the sequence of tasks is shown in correct order\n",
    "for cooking this dinner?"
   ]
  },
  {
   "cell_type": "markdown",
   "metadata": {},
   "source": [
    "The first question that should be posed is \"what constraints are given, and how can they be represented\". We are given a set of tasks, and several have prerequisite tasks implicit in the problem description that must have been completed prior. E.g. you cannot bake bread before preheating the oven. So before attempting to find a solution, the very first step should be to represent the tasks and their prerequisites using a model. I shall use a directed graph, with tasks represented with nodes, and edges to a given node from the task's prerequisites."
   ]
  },
  {
   "cell_type": "code",
   "execution_count": null,
   "metadata": {},
   "outputs": [],
   "source": [
    "import networkx as nx\n",
    "\n",
    "def init_graph():\n",
    "    "
   ]
  },
  {
   "cell_type": "markdown",
   "metadata": {},
   "source": [
    "\n",
    "#### Ex2\n",
    "Consider the following simultaneous equations that you may have encountered in Math Methods,\n",
    "$x+y=10$ and $10x-y=12$ how could you sequence the operations required to find the solution for this\n",
    "system of equations."
   ]
  }
 ],
 "metadata": {
  "language_info": {
   "name": "python"
  }
 },
 "nbformat": 4,
 "nbformat_minor": 2
}
