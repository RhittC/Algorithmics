{
 "cells": [
  {
   "cell_type": "markdown",
   "metadata": {},
   "source": [
    "# 3.3 ADTs Homework\n",
    "Rhitt C."
   ]
  },
  {
   "cell_type": "markdown",
   "metadata": {},
   "source": [
    "#### Background - can be skipped without loss of continuity\n",
    "\n",
    "We live in the intellectual utopia of Dijkstrasia, home to IIT (Irodov Institute of Technology), the world's top university for Mathematics, Physics and Computer Science. IIT has a very rigorous entrance examination process that is intended to only accept the brightest of minds. \n",
    "\n",
    "$10$ years ago, in the city of Trantor, several high schools formed a coalition known as the Teal League. These schools then jointly developed the exclusive \"IIT-topper\" course, where enrolled students are prepared extensively for the exam, with an average workload of $14$ hours a day. As a result, the Trantor League schools account for over $60\\%$ of IIT admissions, despite only making up $0.1\\%$ of applicants.\n",
    "\n",
    "For the past few years, parents have been migrating to Trantor en mass in hopes of sending their children to Teal Leagues and clearing a path to IIT. As a result, there is currently a severe underrepresentation of working class citizens in all other parts of Dijkstrasia. The country is unable to support its large retired demographic, and is projected to collapse within the next $50$ years. The only way for Dijkstrasia to evade its imminent downfall is to disincentivise migration to Trantor immediately.\n",
    "\n",
    "Due to the great lobbyist power of the Teal League, the parliament is unable to pose restrictions on their \"IIT-topper\" course. So, upon great deliberation, Dijkstrasia has decided to attack the IIT examination process instead. We have been assigned the task of designing a new student ranking system that guarantees that admissions are spread across the different regions of Dijkstrasia, and not just awarded on the basis of exam scores alone. Additionally, the implementation should be able to output the rankings of students in each exam centre for each exam round (more on this below)\n",
    "\n",
    "\n",
    "<p align=\"center\">\n",
    "  <img src=\"yamiyugi.jpeg\" />\n",
    "</p>"
   ]
  },
  {
   "cell_type": "markdown",
   "metadata": {},
   "source": [
    "#### Description and Constraints of Problem\n",
    "Problem: Design ranking system to admit student entry based on exam scores and area of residence, then report student scores and rankings in each centre\n",
    "\n",
    "\n",
    "There are 3 exam rounds in this order\n",
    "\n",
    "- Prelims\n",
    "    - Taken in centres dispersed across country, each with capacity of $1000$ students\n",
    "- Mains\n",
    "    - One centre per region - each with unlimited capacity\n",
    "- Advanced\n",
    "    - One centre per state - unlimited capacity\n",
    "\n",
    "Must rank high in one round to proceed to next\n",
    "\n",
    "Exam scores reported to system in batches of exam centre, though specific order of reported scores in a batch is random"
   ]
  },
  {
   "cell_type": "markdown",
   "metadata": {},
   "source": [
    "#### Solution using Maximum Priority Queues\n",
    "\n",
    "The problem can be solved by only permitting the top few scorers of each batch into the next round. Because batches are taken from centres, this ensures a more equal spread of candidates.\n",
    "\n",
    "\n",
    "The rankings of each batch can be modelled using priority queues. \n",
    "\n",
    "1. As papers are reported, the names of students are inputted into these queues with priority correlating to the scores (potentially adjusted according to special considerations). With a regular binary heap implementation of priority queues, this takes $n\\cdot O(\\log{n}) = O(n\\log{n})$ time, where $n$ is the number of students in the batch. With an amortised fibonacci heap, this can be reduced to $O(n)$ time.\n",
    "\n",
    "2. Once all scores of a batch have been recorded, top rankers are then dequeued and their names and scores are reported to the respective centres for publication.\n",
    "\n",
    "3. The system indicates that all subsequent names and scores are of unfortunate failures. They are reported in a similar manner. In any implementation, both accessing the front and dequeuing take $O(\\log{n})$ time, so steps $2$ and $3$ together take a total of $O(n\\log{n})$ time.\n",
    "\n",
    "4. Once all the batches of a round have been processed, the next round begins, following identical steps. Once Advanced has been processed, the final rankings of the toppers are published nation-wide.\n",
    "\n",
    "\n",
    "The effective time complexity of the algorithm taken by the system is therefore $O(n\\log{n})$."
   ]
  },
  {
   "cell_type": "markdown",
   "metadata": {},
   "source": [
    "##### Binary Heap Implementation\n",
    "\n",
    "As an academic exercise, I will be implementing the Priority Queue ADT manually as a Binary Heap.\n",
    "\n",
    "At its core, the Binary Heap implementation of Priority Queues is a dynamic array of keys stored contiguously in memory. The keys correspond to the priority, and comparison between keys must be transitive. In this case, it contains the the exam score. Every key additionally contains a pointer reference to its data, i.e. the name and other details of the student who obtained that score. Duplicate keys are allowed.\n",
    "\n",
    "An important characteristic is that the array does not have the keys sorted in order as one would expect. Instead, each index holds the key at a fixed position of a sorted Binary Tree.\n",
    "\n",
    "Below is a visualisation:"
   ]
  },
  {
   "cell_type": "code",
   "execution_count": 6,
   "metadata": {},
   "outputs": [
    {
     "data": {
      "image/png": "[encoded data removed]",
      "text/plain": [
       "<Figure size 300x100 with 1 Axes>"
      ]
     },
     "metadata": {},
     "output_type": "display_data"
    }
   ],
   "source": [
    "import user_library.rhitt_networkx as rhitt\n",
    "\n",
    "# random score distribution\n",
    "nodes = [100, 94, 95, 84, 87, 39, 10]\n",
    "\n",
    "edges = [(100, 94), (100, 95), \n",
    "         (94, 84), (94, 87), \n",
    "         (95, 39), (95, 10)]\n",
    "\n",
    "levels = {100: 0,\n",
    "          94: 1,\n",
    "          95: 1,\n",
    "          84: 2,\n",
    "          87: 2,\n",
    "          39: 2,\n",
    "          10: 2}\n",
    "\n",
    "# make graph\n",
    "G = rhitt.nx.DiGraph()\n",
    "G.add_nodes_from(nodes)\n",
    "G.add_edges_from(edges)\n",
    "    \n",
    "rhitt.show(G, levels, 1)"
   ]
  },
  {
   "cell_type": "markdown",
   "metadata": {},
   "source": [
    "##### Python\n",
    "\n"
   ]
  }
 ],
 "metadata": {
  "kernelspec": {
   "display_name": "Python 3",
   "language": "python",
   "name": "python3"
  },
  "language_info": {
   "codemirror_mode": {
    "name": "ipython",
    "version": 3
   },
   "file_extension": ".py",
   "mimetype": "text/x-python",
   "name": "python",
   "nbconvert_exporter": "python",
   "pygments_lexer": "ipython3",
   "version": "3.12.1"
  }
 },
 "nbformat": 4,
 "nbformat_minor": 2
}
