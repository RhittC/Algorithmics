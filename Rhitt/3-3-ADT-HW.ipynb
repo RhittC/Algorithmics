{
 "cells": [
  {
   "cell_type": "markdown",
   "metadata": {},
   "source": [
    "# 3.3 ADTs Homework\n",
    "Rhitt C."
   ]
  },
  {
   "cell_type": "markdown",
   "metadata": {},
   "source": [
    "## Question 1A - Queues for Limited Resources\n",
    "\n",
    "Briefly explain why a queue is an appropriate ADT for modelling the accessing of limited resources."
   ]
  },
  {
   "cell_type": "markdown",
   "metadata": {},
   "source": [
    "### Response\n",
    "Say there are limited resources, e.g. rations in war, that must be distributed to people gradually in succession. In the simplest case, the most natural criterion for determining who should be offered resources first is how long they have been waiting. That is, the first person in line should be the first person to get rations (FIFO). This is naturally modelled with the standard Queue ADT."
   ]
  },
  {
   "cell_type": "markdown",
   "metadata": {},
   "source": [
    "## Question 1B - Standard Queue Signatures\n",
    "\n",
    "Give examples of **three** main standard queue operations as signatures, and show how each would be used for modelling a real world problem."
   ]
  },
  {
   "cell_type": "markdown",
   "metadata": {},
   "source": [
    "### Response 1"
   ]
  },
  {
   "cell_type": "markdown",
   "metadata": {},
   "source": [
    "### Response 2"
   ]
  },
  {
   "cell_type": "markdown",
   "metadata": {},
   "source": [
    "### Response 3"
   ]
  },
  {
   "cell_type": "markdown",
   "metadata": {},
   "source": [
    "## Question 2A - Ranking in Queues\n",
    "Briefly explain what kind of ADT supports ranking items in a queue."
   ]
  },
  {
   "cell_type": "markdown",
   "metadata": {},
   "source": [
    "### Response\n",
    "\n",
    "In more complex scenarios, there may be many more important criteria for determining what/who should be dequeued first. It is very difficult to implement a ranking system based on such criteria that do not correlate to the order of enqueuing. As such, a queue with this functionality is classed as a completely separate ADT called a **Priority Queue**."
   ]
  },
  {
   "cell_type": "markdown",
   "metadata": {},
   "source": [
    "## Question 2B - Priority Queue Example Problems\n",
    "\n",
    "Give **two** different examples of using the ADT you have identified for this task. Describe in detail how it would be used to model the real world information."
   ]
  },
  {
   "cell_type": "markdown",
   "metadata": {},
   "source": [
    "### Response 1 (Basic Discussion) - Ticket Management\n",
    "\n",
    "My inspiration behind this problem was the Job Scheduling Greedy Algorithm in the book *Algorithms Illuminated* by Tim Roughgarden I found to be quite intriguing, though the book did not mention priority queue implementation for that algorithm.\n",
    "\n",
    "Many greedy algorithms naturally call for priority queues, especially when applied to real-world systems that must be efficient even if users input more data in the midst of execution (simply keeping an array and repeatedly sorting it is inefficient). As greedy algorithms, true to the moniker, first greedily attack the objects that best satisfy certain numerical criteria, it follows that the ADT designed to dynamically rank those objects according to some criteria and serve the best objects on a silver platter is well-suited."
   ]
  },
  {
   "cell_type": "markdown",
   "metadata": {},
   "source": [
    "#### Problem\n",
    "We work in the ITS department of a large company called Chakravarty Co. Recently, the company has been under several cyberattacks from foreign agents looking for sensitive information. The executives have conducted analyses on the performance of the cybersecurity teams and have found that majority of their time is wasted on resolving relatively low risk yet lengthy issues. \n",
    "\n",
    "We have been tasked with designing a cybersecurity ticket management system that, upon request from a team, assigns them the most optimal ticket based on estimated risk $r\\in\\mathbb{R}^+$, extent of affected systems $e\\in\\mathbb{R}^+$ and time to complete $t\\in\\mathbb{R}^+$. The metric for the optimal ranking of $n\\in\\mathbb{N}$ tickets assigned to a certain team is how small the sum $\\sum_{i=1}^n r_i e_i C_i$ would be, where $C_i\\in\\mathbb{R}^+$ is the time elapsed between the completion of ticket $i$ and the assignment of ticket $1$. Note that as $C$ is the only variable dependent on order of ticket completion, this metric is effectively equivalent to the average of $C$ weighted by $r$ and $e$."
   ]
  },
  {
   "cell_type": "markdown",
   "metadata": {},
   "source": [
    "#### High Level Solution\n",
    "\n",
    "As the focus of this task is on the use of Priority Queues, I will not overly dwell on the thought process behind the greedy algorithm solution and the proof of correctness. Having said that, it is very interesting and I would like to expound upon this superficial discussion at length for a future homework task dedicated to the greedy algorithm design paradigm.\n",
    "\n",
    "Evidently, if greater numerical values are considered higher priority, the priority rank given by $p: (\\mathbb{R}^+)^3 \\rightarrow \\mathbb{R}, p(r, e, t)$ must be greater when $r$ or $e$ is increased, as there is a greater weightage. When time is increased, $C$ of subsequent tickets are also increased, negatively affecting the optimality metric in the long run. Therefore, as $t$ is increased, $p(r, e, t)$ must be lower. That is,\n",
    "\\begin{gather*}\n",
    "\\frac{\\partial p}{\\partial r}\\in\\mathbb{R}^+\\quad\\forall r\\\\\n",
    "\\frac{\\partial p}{\\partial e}\\in\\mathbb{R}^+\\quad\\forall e\\\\\n",
    "\\frac{\\partial p}{\\partial t}\\in\\mathbb{R}^-\\quad\\forall t\\\\\n",
    "\\end{gather*}\n",
    "\n",
    "An infinite number of functions satisfy these conditions. However, it can be shown that $p(r, e, t) = \\frac{re}{t}$ is the simplest one that is guaranteed to yield the best optimality metric in the general case."
   ]
  },
  {
   "cell_type": "markdown",
   "metadata": {},
   "source": [
    "#### Link to Priority Queue ADT\n",
    "\n",
    "Now that we have a priority ranking function, the rest is easy. All the tickets are stored in a maximum priority queue object, with the rank given by $p(r,e,t)$. \n",
    "\n",
    "Whenever a vulnerability or security issue is found, a ticket is logged by enqueuing onto this priority queue, and the ADT sorts itself within $O(\\log{n}) time, depending on the specific implementation. This complexity is not possible from regular sorting functions, as there are no innate properties of the data that can be further exploited to obtain something better than $O(n\\log{n})$. \n",
    "\n",
    "When a cybersecurity team is ready to resolve tickets, they simply dequeue the priority queue and try to complete the task within the estimated timeframe $t$."
   ]
  },
  {
   "cell_type": "markdown",
   "metadata": {},
   "source": [
    "### Response 2 (Main Discussion) - Exam Results"
   ]
  },
  {
   "cell_type": "markdown",
   "metadata": {},
   "source": [
    "#### Background - can be skipped without loss of continuity\n",
    "\n",
    "We live in the intellectual utopia of Dijkstrasia, home to IIT (Irodov Institute of Technology), the world's top university for Mathematics, Physics and Computer Science. IIT has a very rigorous entrance examination process that is intended to only accept the brightest of minds. \n",
    "\n",
    "$10$ years ago, in the city of Trantor, several high schools formed a coalition known as the Teal League. These schools then jointly developed the exclusive \"IIT-topper\" course, where enrolled students are prepared extensively for the exam, with an average workload of $14$ hours a day. As a result, the Trantor League schools account for over $60\\%$ of IIT admissions, despite only making up $0.1\\%$ of applicants.\n",
    "\n",
    "For the past few years, parents have been migrating to Trantor en mass in hopes of sending their children to Teal Leagues and clearing a path to IIT. As a result, there is currently a severe underrepresentation of working class citizens in all other parts of Dijkstrasia. The country is unable to support its large retired demographic, and is projected to collapse within the next $50$ years. The only way for Dijkstrasia to evade its imminent downfall is to disincentivise migration to Trantor immediately.\n",
    "\n",
    "Due to the great lobbyist power of the Teal League, the parliament is unable to pose restrictions on their \"IIT-topper\" course. So, upon great deliberation, Dijkstrasia has decided to attack the IIT examination process instead. We have been assigned the task of designing a new student ranking system that guarantees that admissions are spread across the different regions of Dijkstrasia, and not just awarded on the basis of exam scores alone. Additionally, the implementation should be able to output the rankings of students in each exam centre for each exam round (more on this below)<br><br>\n",
    "\n",
    "\n",
    "<p align=\"center\">\n",
    "  <img src=\"yamiyugi.jpeg\"><br>\n",
    "  <i>The most popular card game of Dijkstrasia is Yu-Gi-Oh!</i>\n",
    "</p>"
   ]
  },
  {
   "cell_type": "markdown",
   "metadata": {},
   "source": [
    "#### Description and Constraints of Problem\n",
    "Problem: Design ranking system to admit student entry based on exam scores and area of residence, then report student scores and rankings in each centre\n",
    "\n",
    "\n",
    "There are 3 exam rounds in this order\n",
    "\n",
    "- Prelims\n",
    "    - Taken in centres dispersed across country, each with capacity of $1000$ students\n",
    "- Mains\n",
    "    - One centre per region - each with unlimited capacity\n",
    "- Advanced\n",
    "    - One centre per state - unlimited capacity\n",
    "\n",
    "Must rank high in one round to proceed to next\n",
    "\n",
    "Exam scores reported to system in batches of exam centre, though specific order of reported scores in a batch is random"
   ]
  },
  {
   "cell_type": "markdown",
   "metadata": {},
   "source": [
    "#### Modelling with Maximum Priority Queues\n",
    "\n",
    "The problem can be solved by only permitting the top few scorers of each batch into the next round. Because batches are taken from centres, this ensures a more equal spread of candidates.\n",
    "\n",
    "\n",
    "The rankings of each batch can be modelled using priority queues. \n",
    "\n",
    "1. As papers are reported, the names of students are inputted into these queues with priority correlating to the scores (potentially adjusted according to special considerations). With a regular binary heap implementation of priority queues, this takes $n\\cdot O(\\log{n}) = O(n\\log{n})$ time, where $n$ is the number of students in the batch. With a fibonacci heap, this can be reduced to an amortised complexity of $O(n)$.\n",
    "\n",
    "2. Once all scores of a batch have been recorded, top rankers are then dequeued and their names and scores are reported to the respective centres for publication.\n",
    "\n",
    "3. The system indicates that all subsequent names and scores are of unfortunate failures. They are reported in a similar manner. In any implementation, both accessing the front and dequeuing take $O(\\log{n})$ time, so steps $2$ and $3$ together take a total of $O(n\\log{n})$ time.\n",
    "\n",
    "4. Once all the batches of a round have been processed, the next round begins, following identical steps. Once Advanced has been processed, the final rankings of the toppers are published nation-wide.\n",
    "\n",
    "\n",
    "The effective time complexity of the algorithm taken by the system is therefore $O(n\\log{n})$."
   ]
  },
  {
   "cell_type": "markdown",
   "metadata": {},
   "source": [
    "#### Binary Heap Implementation - can be skipped without loss of continuity\n",
    "\n",
    "As an academic exercise to fully conceptualise the topic, I will be implementing the Priority Queue ADT manually as a Binary Heap.\n",
    "\n",
    "At its core, the Binary Heap implementation of Priority Queues is a sequence of data nodes that are periodically sorted according to associated priority rankings. However, regular comparison-based sorting algorithms take $O(n\\log{n})$ time. So to insert and sort $n$ nodes repeatedly, it would take the absurd time complexity of $O(n^2\\log{n})$. To reduce this to $O(\\log{n})$ insertion $\\implies O(n\\log{n})$ repeated insertion, Binary Heaps use slightly counter-intuitive techniques.\n",
    "\n",
    "It is ultimately a dynamic array of pointer references stored contiguously in memory that expands as more data is inserted. The pointers point to a priority ranking and data stored randomly in memory.\n",
    "\n",
    "Comparison operations between priority ranks must be transitive. In this case, the priority is the exam scores. Duplicate priorities are supported. In terms of data, I am only considering student names, however this can be easily extended to include more details such as student number, school, postal address, etc. as required by the problem.\n",
    "\n",
    "The defining characteristic of heaps is that the dynamic array is not sorted in descending(ascending) order of priority as one would expect. Instead, each index points to the node at a certain position of a Binary Tree, sorted such that every node's priority rank is larger(smaller) than that of both its children.\n",
    "\n",
    "Here is an example:"
   ]
  },
  {
   "cell_type": "code",
   "execution_count": 1,
   "metadata": {},
   "outputs": [
    {
     "data": {
      "image/png": "[encoded data removed]",
      "text/plain": [
       "<Figure size 600x200 with 1 Axes>"
      ]
     },
     "metadata": {},
     "output_type": "display_data"
    }
   ],
   "source": [
    "import user_library.rhitt_networkx as rhitt\n",
    "\n",
    "# random score distribution\n",
    "nodes = [100, 94, 95, 84, 87, 39, 10]\n",
    "\n",
    "edges = [(100, 94), (100, 95), \n",
    "         (94, 84), (94, 87), \n",
    "         (95, 39), (95, 10)]\n",
    "\n",
    "levels = {100: 0,\n",
    "          94: 1, 95: 1,\n",
    "          84: 2, 87: 2,\n",
    "          39: 2, 10: 2}\n",
    "\n",
    "# make graph\n",
    "G = rhitt.nx.DiGraph()\n",
    "G.add_nodes_from(nodes)\n",
    "G.add_edges_from(edges)\n",
    "    \n",
    "rhitt.show(G, levels, 2)"
   ]
  },
  {
   "cell_type": "markdown",
   "metadata": {},
   "source": [
    "It is stored contiguously in memory as follows:\n",
    "\n",
    "| INDEX IN MEMORY   | 0     | 1     | 2     | 3     | 4     | 5     | 6     |\n",
    "| ----------------- | ----- | ----- | ----- | ----- | ----- | ----- | ----- |\n",
    "| KEY POINTED TO    | 100   | 94    | 95    | 84    | 87    | 39    | 10    |\n",
    "| PARENT            | Root  | 100   | 100   | 94    | 94    | 95    | 95    |"
   ]
  },
  {
   "cell_type": "markdown",
   "metadata": {},
   "source": [
    "Provided VCE signature:\n",
    "\n",
    "\\begin{align*}\n",
    "&\\textbf{name } pQueue;\\\\\n",
    "&\\textbf{import } element, boolean, rank;\\\\\n",
    "&\\textbf{operations}\\\\\n",
    "&|\\quad minPQueue ∶ &\\quad&\\rightarrow pQueue;\\\\\n",
    "&|\\quad maxPQueue ∶ &\\quad&\\rightarrow pQueue; \\\\\n",
    "&|\\quad enqueue ∶ &pQueue \\times element \\times rank &\\rightarrow pQueue; \\\\\n",
    "&|\\quad front ∶ &pQueue &\\rightarrow element;\\\\\n",
    "&|\\quad dequeue ∶ &pQueue &\\rightarrow pQueue; \\\\\n",
    "&|\\quad isEmpty ∶ &pQueue &\\rightarrow boolean; \n",
    "\\end{align*}\n",
    "\n",
    "$$\\downarrow$$\n",
    "\n",
    "Slight modifications for ease of implementation:\n",
    "\n",
    "\\begin{align*}\n",
    "&\\textbf{name } pQueue;\\\\\n",
    "&\\textbf{import } element, boolean, integer;\\\\\n",
    "&\\textbf{operations}\\\\\n",
    "&|\\quad PQueue ∶ &boolean&\\rightarrow pQueue;\\\\\n",
    "&|\\quad enqueue ∶ &pQueue \\times integer \\times element &\\rightarrow pQueue; \\\\\n",
    "&|\\quad dequeue ∶ &pQueue &\\rightarrow pQueue; \\\\\n",
    "&|\\quad front ∶ &pQueue &\\rightarrow element;\\\\\n",
    "&|\\quad isEmpty ∶ &pQueue &\\rightarrow boolean; \n",
    "\\end{align*}"
   ]
  },
  {
   "cell_type": "code",
   "execution_count": null,
   "metadata": {},
   "outputs": [],
   "source": [
    "# I put this code into ../user_library/rhitt_pQueue.py\n",
    "\n",
    "class pQueue:\n",
    "    # pQueue constructor (operation)\n",
    "    def __init__(self, min_heap=True):\n",
    "        self.heap = []      # python lists [], despite the name, are dynamic arrays of pointers to data\n",
    "                                # and not traditional linked lists\n",
    "        self.min_heap = min_heap\n",
    "        self.size = 0\n",
    "\n",
    "    # helper functions\n",
    "    def parent(self, i):\n",
    "        return (i - 1) // 2\n",
    "    \n",
    "    def children(self, i):\n",
    "        return (2*i + 1, 2*i + 2)\n",
    "\n",
    "    def swap(self, i, j):\n",
    "        temp = self.heap[i]\n",
    "        self.heap[i] = self.heap[j]\n",
    "        self.heap[j] = temp\n",
    "\n",
    "    def compare(self, i, j):\n",
    "        # out of bounds check\n",
    "        if i < self.size:\n",
    "            a = self.heap[i][0]\n",
    "        else:\n",
    "            return False\n",
    "        if j < self.size:\n",
    "            b = self.heap[j][0]\n",
    "        else:\n",
    "            return True\n",
    "\n",
    "        return a <= b if self.min_heap else a >= b\n",
    "    \n",
    "\n",
    "    # standard operations\n",
    "    def enqueue(self, priority, data):\n",
    "        # store them together\n",
    "        node = (priority, data)\n",
    "        self.heap.append(node)\n",
    "        self.size += 1\n",
    "\n",
    "        # restore the heap property\n",
    "        i = self.size - 1      # index of current node - start at end\n",
    "        while i > 0:\n",
    "            parent = self.parent(i)\n",
    "            if self.compare(parent, i):\n",
    "                break   # heap property is satisfied\n",
    "            else:\n",
    "                self.swap(i, parent)\n",
    "            i = parent\n",
    "        \n",
    "        return self\n",
    "        \n",
    "    def dequeue(self):\n",
    "        if self.isEmpty():\n",
    "            return None     # nothing to dequeue\n",
    "        \n",
    "        # replace root with last dangling leaf node (no strings attached)\n",
    "        self.heap[0] = self.heap[self.size-1]\n",
    "        self.heap[self.size-1] = None\n",
    "        self.size -= 1\n",
    "\n",
    "        # restore heap property by iteratively swapping out violations\n",
    "        i = 0   # index of current node - start at root\n",
    "        while True:\n",
    "            left, right = self.children(i)\n",
    "            if left >= self.size:   # reached end, so finished\n",
    "                break\n",
    "\n",
    "            violation = i   # value of i is sentinel indicating NO violation\n",
    "            if self.compare(left, i):\n",
    "                violation = left\n",
    "            if right < self.size and self.compare(right, violation):\n",
    "                violation = right\n",
    "\n",
    "            if violation == i:      # no violation\n",
    "                break\n",
    "            else:                   # resolve violation\n",
    "                self.swap(i, violation)\n",
    "                i = violation\n",
    "\n",
    "        return self\n",
    "    \n",
    "    def front(self):\n",
    "        if self.isEmpty():\n",
    "            return None\n",
    "        return self.heap[0]\n",
    "    \n",
    "    def isEmpty(self):\n",
    "        return self.size == 0"
   ]
  },
  {
   "cell_type": "code",
   "execution_count": 34,
   "metadata": {},
   "outputs": [
    {
     "name": "stdout",
     "output_type": "stream",
     "text": [
      "(100, 'Daniel')\n",
      "\t-> []\n",
      "\t=> [(100, 'Daniel')]\n",
      "(39, 'Tam')\n",
      "\t-> [(100, 'Daniel')]\n",
      "\t=> [(100, 'Daniel'), (39, 'Tam')]\n",
      "(95, 'Sai')\n",
      "\t-> [(100, 'Daniel'), (39, 'Tam')]\n",
      "\t=> [(100, 'Daniel'), (39, 'Tam'), (95, 'Sai')]\n",
      "(84, 'Tim')\n",
      "\t-> [(100, 'Daniel'), (39, 'Tam'), (95, 'Sai')]\n",
      "\t=> [(100, 'Daniel'), (84, 'Tim'), (95, 'Sai'), (39, 'Tam')]\n",
      "(94, 'Edward')\n",
      "\t-> [(100, 'Daniel'), (84, 'Tim'), (95, 'Sai'), (39, 'Tam')]\n",
      "\t=> [(100, 'Daniel'), (94, 'Edward'), (95, 'Sai'), (39, 'Tam'), (84, 'Tim')]\n",
      "(87, 'Tom')\n",
      "\t-> [(100, 'Daniel'), (94, 'Edward'), (95, 'Sai'), (39, 'Tam'), (84, 'Tim')]\n",
      "\t=> [(100, 'Daniel'), (94, 'Edward'), (95, 'Sai'), (39, 'Tam'), (84, 'Tim'), (87, 'Tom')]\n",
      "(10, 'Rhitt')\n",
      "\t-> [(100, 'Daniel'), (94, 'Edward'), (95, 'Sai'), (39, 'Tam'), (84, 'Tim'), (87, 'Tom')]\n",
      "\t=> [(100, 'Daniel'), (94, 'Edward'), (95, 'Sai'), (39, 'Tam'), (84, 'Tim'), (87, 'Tom'), (10, 'Rhitt')]\n",
      "\n",
      "-----------------------------------------------------------------------------------------------------------------\n",
      "\n",
      "(100, 'Daniel')\n",
      "\t<- [(95, 'Sai'), (94, 'Edward'), (87, 'Tom'), (39, 'Tam'), (84, 'Tim'), (10, 'Rhitt'), None]\n",
      "(95, 'Sai')\n",
      "\t<- [(94, 'Edward'), (84, 'Tim'), (87, 'Tom'), (39, 'Tam'), (10, 'Rhitt'), None, None]\n",
      "(94, 'Edward')\n",
      "\t<- [(87, 'Tom'), (84, 'Tim'), (10, 'Rhitt'), (39, 'Tam'), None, None, None]\n",
      "(87, 'Tom')\n",
      "\t<- [(84, 'Tim'), (39, 'Tam'), (10, 'Rhitt'), None, None, None, None]\n",
      "(84, 'Tim')\n",
      "\t<- [(39, 'Tam'), (10, 'Rhitt'), None, None, None, None, None]\n",
      "(39, 'Tam')\n",
      "\t<- [(10, 'Rhitt'), None, None, None, None, None, None]\n",
      "(10, 'Rhitt')\n",
      "\t<- [None, None, None, None, None, None, None]\n"
     ]
    }
   ],
   "source": [
    "import user_library.rhitt_pQueue as rhitt\n",
    "\n",
    "# test pQueue\n",
    "\n",
    "nodes = {100 : \"Daniel\", 39 : \"Tam\", 95 : \"Sai\", 84 : \"Tim\", 94 : \"Edward\", 87 : \"Tom\", 10 : \"Rhitt\"}\n",
    "q = rhitt.pQueue(min_heap=False)\n",
    "for n in nodes:\n",
    "    print((n, nodes[n]))\n",
    "    print(\"\\t->\", q.heap)\n",
    "    \n",
    "    q.enqueue(n, nodes[n])\n",
    "    print(\"\\t=>\", q.heap)\n",
    "\n",
    "print('\\n' + '-'*113 + '\\n')\n",
    "\n",
    "while not q.isEmpty():\n",
    "    print(q.front())\n",
    "    q.dequeue()\n",
    "    print(\"\\t<-\", q.heap)"
   ]
  },
  {
   "cell_type": "markdown",
   "metadata": {},
   "source": [
    "## Question 3 - Python Solution to 2B Example Problem 2"
   ]
  }
 ],
 "metadata": {
  "kernelspec": {
   "display_name": "Python 3",
   "language": "python",
   "name": "python3"
  },
  "language_info": {
   "codemirror_mode": {
    "name": "ipython",
    "version": 3
   },
   "file_extension": ".py",
   "mimetype": "text/x-python",
   "name": "python",
   "nbconvert_exporter": "python",
   "pygments_lexer": "ipython3",
   "version": "3.12.1"
  }
 },
 "nbformat": 4,
 "nbformat_minor": 2
}
