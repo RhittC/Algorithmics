{
 "cells": [
  {
   "cell_type": "markdown",
   "metadata": {},
   "source": [
    "# Scenario\n",
    "\n",
    "Your 5 year old brother has been using MS Word for a while, and is now curious about PowerPoint (the Orange Word, as he calls it). So you teach him the concept of splitting content into separate slides, each with their own pretty graphics and animations. He's fascinated by this.\n",
    "\n",
    "> You: \"When you click the \"New Slide\" button, it makes a new slide for you\"\n",
    "\n",
    "> Brother: \"What if I click it again?\"\n",
    "\n",
    "> You: \"It makes another\"\n",
    "\n",
    "> Brother: \"And AGAIN?\"\n",
    "\n",
    "Your brother keeps spamming the \"New Slide\" button. Suddenly, he notices that the slide number $10$ has reached double digits. He hasn't yet learnt the concept of place value, so he finds this bizarre. You teach him that $10$ is the number after $9$. This blows his mind.\n",
    "\n",
    "> Brother: So there are $2$ numbers inside a bigger number?\n",
    "\n",
    "> You: Yes, they're called ***digits***\n",
    "\n",
    "> Brother: Hmmmm, so how many ***digits*** are there in total in the Orange Word?\n",
    "\n",
    "> You: Among the slide numbers? Well, the first $9$ numbers all have $1$ digit each. And $10$ has $2$ digits. So in total, there's $11$ digits.\n",
    "\n",
    "Your brother continues spamming until it reaches $100$\n",
    "\n",
    "> Brother: Now there are $3$ numbers???\n",
    "\n",
    "> You: Yep, you've discovered the triple digits\n",
    "\n",
    "> Brother: Oh. Then how many digits in total now?\n",
    "\n",
    "This question stumps you. Your arithmetic skills are abysmal, so you tell him to wait as you write up an algorithm."
   ]
  },
  {
   "cell_type": "markdown",
   "metadata": {},
   "source": [
    "## Brute Force Approach - $O(n)$"
   ]
  },
  {
   "cell_type": "code",
   "execution_count": 14,
   "metadata": {},
   "outputs": [
    {
     "name": "stdout",
     "output_type": "stream",
     "text": [
      "Answer: 192\n"
     ]
    }
   ],
   "source": [
    "import numpy as np\n",
    "\n",
    "digits = 0\n",
    "total = 0\n",
    "for i in range(1, 100+1):\n",
    "    if np.log10(i) % 1 == 0:     # reached a power of 10\n",
    "        digits += 1\n",
    "    total += digits\n",
    "\n",
    "print(\"Answer:\", total)"
   ]
  },
  {
   "cell_type": "markdown",
   "metadata": {},
   "source": [
    "In $30$ s flat, you write up this code and triumphantly announce the answer to be $192$ digits.\n",
    "\n",
    "Your brother has not faltered in his spamming of new slides. He now asks the same question repeatedly, regarding $539$, $540$ and $541$ slides. You decide to generalise your algorithm so your brother can ask the interface directly instead of through the intermediary of you."
   ]
  },
  {
   "cell_type": "code",
   "execution_count": 4,
   "metadata": {},
   "outputs": [
    {
     "name": "stdout",
     "output_type": "stream",
     "text": [
      "Total Number of Digits: 2893\n"
     ]
    }
   ],
   "source": [
    "\n",
    "import numpy as np\n",
    "# O(n) solution, where n is the number of slides\n",
    "\n",
    "def bruteforce(n):\n",
    "    digits = 0\n",
    "    total = 0\n",
    "    for i in range(1, n+1):\n",
    "        if np.log10(i) % 1 == 0:     # reached a power of 10\n",
    "            digits += 1\n",
    "        total += digits\n",
    "\n",
    "    return total\n",
    "\n",
    "n = int(input(\"Largest Slide Number:\"))\n",
    "print(f\"Total Number of Digits: {bruteforce(n)}\")"
   ]
  },
  {
   "cell_type": "markdown",
   "metadata": {},
   "source": [
    "Your brother is happy now."
   ]
  },
  {
   "cell_type": "markdown",
   "metadata": {},
   "source": [
    "## Iterative Approach - $O(\\log n)$\n",
    "\n",
    "But that's not enough. It doesn't matter that you're brother is happy - *you*'re not happy. The bruteforce solution was clunky and inefficient. As an aspiring computer scientist, you strive for a better algorithm.\n",
    "\n",
    "The most obvious flaw is that the for loop is just executing repeated addition, unnecessarily impeding the time complexity. A good optimisation is to instead calculate how many slide numbers have a certain number of digits, then multiply that quantity by said number of digits.\n",
    "\n",
    "---\n",
    "\n",
    "You consider $n=105$\n",
    "\n",
    "There are $9$ single digit numbers: $(1, 2, \\cdots, 8, 9)$<br>\n",
    "Digits: $9\\cdot1=9$\n",
    "\n",
    "\n",
    "There are then $99-9=90$ double digit numbers: $(10, 11, \\cdots, 98, 99)$<br>\n",
    "Digits: $90\\cdot2=180$\n",
    "\n",
    "And finally there are $105-99=6$ triple digit numbers left over: $(100, 101, \\cdots, 104, 105)$<br>\n",
    "Digits: $6\\cdot3=18$\n",
    "\n",
    "Therefore the total number of digits is $9+180+18=207$\n",
    "\n",
    "---\n",
    "\n",
    "To generalise your thinking, you first want to quantify the number of digits of a number $n$. Due to our base $10$ number system, $10^l$ has $l+1$ digits $\\forall l\\in\\mathbb{N}_0$. Any $n\\in\\mathbb{N}$ can be expressed in scientific notation as $a\\cdot10^l, a\\in[1,10)$. $l$ is therefore $\\lfloor \\log_{10}(n)\\rfloor$, and the number of digits of $n$ is $d = l+1$.\n",
    "\n",
    "You then recognise that there exist $10^d - 10^{d-1} = 9(10^{d-1})$ $d$-digit natural numbers. So if your max slide number is $n$, you can first consider all natural numbers with no more than $d-1=l$ digits by evaluating $\\sum_{i=0}^l 9(10^i)\\text{ numbers }\\cdot (i+1)\\text{ digits }$.\n",
    "\n",
    "You realise that there will be a remaining surplus of $n - (10^l - 1) = n - 10^l + 1$ numbers, each with $d=l+1$ digits, that must be summed separately.\n",
    "\n",
    "You collect your findings into an algorithm. The sum is evaluated iteratively, so the time complexity is $O(\\log n)$."
   ]
  },
  {
   "cell_type": "code",
   "execution_count": 6,
   "metadata": {},
   "outputs": [
    {
     "name": "stdout",
     "output_type": "stream",
     "text": [
      "digits: 2893\n"
     ]
    }
   ],
   "source": [
    "import numpy as np\n",
    "# O(logn) solution, where n is the number of slides\n",
    "\n",
    "n = int(input(\"number of slides: \"))\n",
    "exp = int(np.floor(np.log10(n)))        # exponent of 10 i.e. number of digits - 1\n",
    "total = 0\n",
    "\n",
    "# sum up to highest power of 10 in O(logn) time\n",
    "for smaller_exp in range(exp):\n",
    "  smaller_n = 9 * 10**smaller_exp\n",
    "  smaller_digits = smaller_exp + 1\n",
    "  total += smaller_digits * smaller_n\n",
    "\n",
    "# sum surplus in O(1) time\n",
    "surplus = n - 10**exp + 1\n",
    "digits = exp + 1\n",
    "total += digits * surplus \n",
    "\n",
    "print(\"digits:\", total)"
   ]
  },
  {
   "cell_type": "markdown",
   "metadata": {},
   "source": [
    "## Series Evaluation Approach - $O(1)$\n",
    "\n",
    "Your optimisation was good, but you think you can do better. You recall geometric partial sums $\\sum_{i=0}^n a\\cdot r^i = a\\cdot\\frac{r^{n+1} - 1}{r-1}$ from your recently full-marked spesh paper, and note that the iteratively computed sum $\\sum_{i=0}^l 9(10^i)(i+1)$ is eerily similar.\n",
    "\n",
    "That's when you're hit with a eureka moment. $\\frac{d}{dx} r^i = (i)r^{i-1} \\implies \\frac{d}{dx} r^{i+1} = (i+1)r^i$, and derivatives carry through summations by the property $\\frac{d}{dx} (f(x) + g(x)) \\equiv \\frac{d}{dx} f(x) + \\frac{d}{dx} g(x)$. Therefore,\n",
    "\n",
    "\\begin{align*}\n",
    "\n",
    "\\sum_{i=0}^n r^{i+1} &= \\sum_{i=0}^n r(r^i)\\\\\\\\\n",
    "\n",
    "&= r\\left( \\frac{r^{n+1}-1}{r-1} \\right)\\quad \\because\\text{geometric partial sum}\\\\\\\\\n",
    "\n",
    "&= \\left( 1+\\frac{1}{r-1} \\right)    \\left( r^{n+1}-1 \\right)\\\\\\\\\n",
    "\n",
    "\\sum_{i=0}^n (i+1)r^i &= \\left(\\frac{-1}{(r-1)^2}\\right)(r^{n+1}-1)   +   \\left(1+\\frac{1}{r-1}\\right)(n+1)r^n\\\\\\\\\n",
    "\n",
    "&= \\frac{1-r^{n+1} + (r-1)r(n+1)r^n}{(r-1)^2}\\\\\\\\\n",
    "\n",
    "&= \\frac{1-r^{n+1} + r^{n+2}(n+1) - r^{n+1}(n+1)}{(r-1)^2}\\\\\\\\\n",
    "\n",
    "&= \\frac{1 + (n+1)r^{n+2} - (n+2)r^{n+1}}    {(r-1)^2}\\\\\\\\\\\\\n",
    "\n",
    "\n",
    "\n",
    "\n",
    "\\sum_{i=0}^{l-1} 9(10^i)(i+1) &= 9\\sum_{i=0}^{l-1} (i+1)10^i\\\\\\\\\n",
    "\n",
    "&= 9\\cdot\\frac{1 + (l)10^{l+1} - (l+1)10^{l}}    {(10-1)^2}\\\\\\\\\n",
    "\n",
    "&= \\frac{1 + l(10)^{l+1} - (l+1)(10)^{l}}    {9}\\\\\n",
    "\n",
    "\\end{align*}\n",
    "\n",
    "\n",
    "The calculation of the surplus $(l+1)(n-10^l+1)$ is already $O(1)$ optimised.\n",
    "\n",
    "Therefore, by summing these two quantities, an $O(1)$ algorithm for the total number of digits can be obtained."
   ]
  },
  {
   "cell_type": "code",
   "execution_count": 2,
   "metadata": {},
   "outputs": [
    {
     "name": "stdout",
     "output_type": "stream",
     "text": [
      "total number of digits: 5888896\n"
     ]
    }
   ],
   "source": [
    "import numpy as np\n",
    "# O(1) solution\n",
    "\n",
    "n = int(input(\"number of slides: \"))\n",
    "exp = int(np.floor(np.log10(n)))\n",
    "\n",
    "power10 = (1 + exp*10**(exp+1) - (exp+1)*10**exp) // 9\n",
    "surplus = (exp+1) * (n - 10**exp + 1)\n",
    "total = power10 + surplus\n",
    "\n",
    "print(\"total number of digits:\", total)"
   ]
  }
 ],
 "metadata": {
  "kernelspec": {
   "display_name": "Python 3",
   "language": "python",
   "name": "python3"
  },
  "language_info": {
   "codemirror_mode": {
    "name": "ipython",
    "version": 3
   },
   "file_extension": ".py",
   "mimetype": "text/x-python",
   "name": "python",
   "nbconvert_exporter": "python",
   "pygments_lexer": "ipython3",
   "version": "3.12.1"
  }
 },
 "nbformat": 4,
 "nbformat_minor": 2
}
